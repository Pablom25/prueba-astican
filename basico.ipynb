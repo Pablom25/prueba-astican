{
 "cells": [
  {
   "cell_type": "code",
   "execution_count": 111,
   "id": "7b52d4ed",
   "metadata": {},
   "outputs": [],
   "source": [
    "# Importar bibliotecas\n",
    "\n",
    "import pandas as pd\n",
    "from pulp import *"
   ]
  },
  {
   "cell_type": "code",
   "execution_count": 110,
   "id": "2e022a94",
   "metadata": {},
   "outputs": [],
   "source": [
    "# Crear/leer datos\n",
    "\n",
    "def leer_datos():\n",
    "    # Aquí lógica para leer los datos desde un archivo o base de datos\n",
    "    proyectos = pd.DataFrame({       \n",
    "        'eslora': [120, 100],\n",
    "        'manga': [18, 15]}, \n",
    "        index=['PRO1', 'PRO2'])\n",
    "\n",
    "    periodos = pd.DataFrame({\n",
    "        'tipo_desc': ['FLOTE', 'FLOTE'],\n",
    "        'fecha_inicio': ['2025-08-08', '2025-08-10'],\n",
    "        'fecha_fin': ['2025-08-20', '2025-08-16'],\n",
    "        'proyecto_id': ['PRO1', 'PRO2'],\n",
    "        'periodo_id': [0, 0]})\n",
    "\n",
    "    periodos.index = periodos['proyecto_id'] + '_' + periodos['periodo_id'].astype(str)\n",
    "\n",
    "    muelles = pd.DataFrame({\n",
    "        'longitud': [130, 110],\n",
    "        'ancho': [20, 20]},\n",
    "        index=['SUR', 'NORTE'])\n",
    "\n",
    "    fecha_inicial = periodos['fecha_inicio'].min()\n",
    "\n",
    "    return proyectos, periodos, muelles, fecha_inicial\n"
   ]
  },
  {
   "cell_type": "code",
   "execution_count": null,
   "id": "b4c4563f",
   "metadata": {},
   "outputs": [],
   "source": [
    "# Preprocesar datos\n",
    "\n",
    "def preprocesar_datos(proyectos, periodos, muelles, fecha_inicial):\n",
    "\n",
    "    # Convertir fechas a integer\n",
    "    periodos['fecha_inicio'] = pd.to_datetime(periodos['fecha_inicio'])\n",
    "    periodos['fecha_fin'] = pd.to_datetime(periodos['fecha_fin'])\n",
    "    fecha_inicial = periodos['fecha_inicio'].min()\n",
    "\n",
    "    periodos['fecha_inicio'] = (periodos['fecha_inicio'] - fecha_inicial).dt.days\n",
    "    periodos['fecha_fin'] = (periodos['fecha_fin'] - fecha_inicial).dt.days\n",
    "\n",
    "    # Crear una lista de días\n",
    "    dias = list(range(periodos['fecha_inicio'].min(), periodos['fecha_fin'].max()+1))\n",
    "\n",
    "    return proyectos, periodos, muelles, dias"
   ]
  },
  {
   "cell_type": "code",
   "execution_count": 173,
   "id": "3e03a357",
   "metadata": {},
   "outputs": [],
   "source": [
    "# Definir variables de decisión\n",
    "\n",
    "def definir_variables(proyectos, periodos, muelles):\n",
    "    dias_vars = {}\n",
    "    locs_vars = {}\n",
    "    \n",
    "    # Definir variables para cada periodo solo en los días y localizaciones correspondientes\n",
    "\n",
    "    for p in periodos.index:\n",
    "        dias_vars[p] = list(range(periodos.loc[p, 'fecha_inicio'], periodos.loc[p, 'fecha_fin'] +1))\n",
    "        locs_vars[p] = []\n",
    "        if periodos.loc[p, 'tipo_desc'] == 'FLOTE':\n",
    "            locs_vars[p].extend([m for m in muelles.index if (muelles.loc[m, 'longitud'] >= proyectos.loc[periodos.loc[p, 'proyecto_id'], 'eslora'] and \n",
    "                              muelles.loc[m, 'ancho'] >= proyectos.loc[periodos.loc[p, 'proyecto_id'], 'manga'])])\n",
    "\n",
    "    x = {(p, d, loc): LpVariable(\"x_\"+ p +\"_\" + str(d) + \"_\" + loc,(p, d, loc), cat='Binary')\n",
    "         for p in periodos.index\n",
    "         for d in dias_vars[p]\n",
    "         for loc in locs_vars[p] if loc}\n",
    "    \n",
    "    return x, dias_vars, locs_vars"
   ]
  },
  {
   "cell_type": "code",
   "execution_count": 174,
   "id": "c63109de",
   "metadata": {},
   "outputs": [],
   "source": [
    "# Definir la función objetivo\n",
    "\n",
    "def definir_funcion_objetivo(x):\n",
    "    objetivo = lpSum(x.values())\n",
    "    return objetivo"
   ]
  },
  {
   "cell_type": "code",
   "execution_count": 178,
   "id": "e8238e2c",
   "metadata": {},
   "outputs": [],
   "source": [
    "# Definir restricciones\n",
    "\n",
    "def definir_restricciones(x, dias, dias_vars, locs_vars, periodos, muelles, proyectos):\n",
    "\n",
    "    restricciones = {}\n",
    "\n",
    "    # Cada proyecto como mucho en un muelle por día\n",
    "    restricciones['1_por_día'] = []\n",
    "    for p in periodos.index:\n",
    "        for d in dias_vars[p]:\n",
    "            restricciones['1_por_día'].append(lpSum(x[(p, d, m)] for m in locs_vars[p]) <= 1)\n",
    "    \n",
    "    # Los barcos en el mismo muelle no pueden exceder la longitud del muelle\n",
    "    restricciones['Longitud_Muelle'] = []\n",
    "    for d in dias:\n",
    "        for m in muelles.index:\n",
    "            restricciones['Longitud_Muelle'].append(lpSum(x[(d,p,m)] * proyectos.loc[periodos.loc[p,'proyecto_id'], 'eslora'] for p in periodos.index if (d,p,m) in x.keys()) <= muelles.loc[m, 'longitud'])\n",
    "\n",
    "    return restricciones"
   ]
  },
  {
   "cell_type": "code",
   "execution_count": 167,
   "id": "6720fd57",
   "metadata": {},
   "outputs": [],
   "source": [
    "# Resolver el problema de optimización\n",
    "\n",
    "def resolver_problema(objetivo, restricciones):\n",
    "\n",
    "    prob = LpProblem(\"Asignación de Periodos a Muelles\", LpMaximize)\n",
    "    prob += objetivo\n",
    "\n",
    "    for constraint in restricciones.values():\n",
    "        for c in constraint:\n",
    "            prob += c\n",
    "\n",
    "    prob.solve()\n",
    "\n",
    "    return prob"
   ]
  },
  {
   "cell_type": "code",
   "execution_count": 168,
   "id": "a07f096c",
   "metadata": {},
   "outputs": [],
   "source": [
    "# Imprimir asignación de proyectos por muelle\n",
    "\n",
    "def imprimir_asignacion(prob, x_dpm, dias, periodos, muelles):\n",
    "    \n",
    "    print(\"Estado de la solución:\", LpStatus[prob.status])\n",
    "    print(\"\\nAsignación de Proyectos a Muelles:\\n\")\n",
    "    print(\"Día\\t\", \"\\t\".join(muelles.index))\n",
    "\n",
    "    for d in dias:\n",
    "        row = f\"{d}\\t\"\n",
    "        for p in periodos.index:\n",
    "            for m in muelles.index:\n",
    "                if x_dpm[d][p][m].varValue == 1:\n",
    "                    row += f\"{p}\\t\"\n",
    "                    break\n",
    "        print(row)\n"
   ]
  },
  {
   "cell_type": "code",
   "execution_count": 179,
   "id": "c252e457",
   "metadata": {},
   "outputs": [],
   "source": [
    "# Optimize\n",
    "\n",
    "def optimize():\n",
    "    proyectos, periodos, muelles, fecha_inicial = leer_datos()\n",
    "    proyectos, periodos, muelles, dias = preprocesar_datos(proyectos, periodos, muelles, fecha_inicial)\n",
    "    \n",
    "    x, dias_vars, locs_vars = definir_variables(proyectos, periodos, muelles)\n",
    "    objetivo = definir_funcion_objetivo(x)\n",
    "    restricciones = definir_restricciones(x, dias, dias_vars, locs_vars, periodos, muelles, proyectos)\n",
    "    \n",
    "    prob = resolver_problema(objetivo, restricciones)\n",
    "    imprimir_asignacion(prob, x, dias, periodos, muelles)"
   ]
  },
  {
   "cell_type": "code",
   "execution_count": 180,
   "id": "66fa0052",
   "metadata": {},
   "outputs": [
    {
     "name": "stdout",
     "output_type": "stream",
     "text": [
      "Welcome to the CBC MILP Solver \n",
      "Version: 2.10.3 \n",
      "Build Date: Dec 15 2019 \n",
      "\n",
      "command line - /opt/miniconda3/envs/NAME_ENV/lib/python3.10/site-packages/pulp/apis/../solverdir/cbc/osx/i64/cbc /var/folders/x4/4ffrr56n3jzb55xn5fzcplwc0000gn/T/db29939fcc994d729c948bf4fb074932-pulp.mps -max -timeMode elapsed -branch -printingOptions all -solution /var/folders/x4/4ffrr56n3jzb55xn5fzcplwc0000gn/T/db29939fcc994d729c948bf4fb074932-pulp.sol (default strategy 1)\n",
      "At line 2 NAME          MODEL\n",
      "At line 3 ROWS\n",
      "At line 51 COLUMNS\n",
      "At line 160 RHS\n",
      "At line 207 BOUNDS\n",
      "At line 235 ENDATA\n",
      "Problem MODEL has 46 rows, 27 columns and 27 elements\n",
      "Coin0008I MODEL read with 0 errors\n",
      "Option for timeMode changed from cpu to elapsed\n",
      "Continuous objective value is 20 - 0.00 seconds\n",
      "Cgl0004I processed model has 0 rows, 0 columns (0 integer (0 of which binary)) and 0 elements\n",
      "Cbc3007W No integer variables - nothing to do\n",
      "Cuts at root node changed objective from -20 to -1.79769e+308\n",
      "Probing was tried 0 times and created 0 cuts of which 0 were active after adding rounds of cuts (0.000 seconds)\n",
      "Gomory was tried 0 times and created 0 cuts of which 0 were active after adding rounds of cuts (0.000 seconds)\n",
      "Knapsack was tried 0 times and created 0 cuts of which 0 were active after adding rounds of cuts (0.000 seconds)\n",
      "Clique was tried 0 times and created 0 cuts of which 0 were active after adding rounds of cuts (0.000 seconds)\n",
      "MixedIntegerRounding2 was tried 0 times and created 0 cuts of which 0 were active after adding rounds of cuts (0.000 seconds)\n",
      "FlowCover was tried 0 times and created 0 cuts of which 0 were active after adding rounds of cuts (0.000 seconds)\n",
      "TwoMirCuts was tried 0 times and created 0 cuts of which 0 were active after adding rounds of cuts (0.000 seconds)\n",
      "ZeroHalf was tried 0 times and created 0 cuts of which 0 were active after adding rounds of cuts (0.000 seconds)\n",
      "\n",
      "Result - Optimal solution found\n",
      "\n",
      "Objective value:                20.00000000\n",
      "Enumerated nodes:               0\n",
      "Total iterations:               0\n",
      "Time (CPU seconds):             0.00\n",
      "Time (Wallclock seconds):       0.01\n",
      "\n",
      "Option for printingOptions changed from normal to all\n",
      "Total time (CPU seconds):       0.00   (Wallclock seconds):       0.02\n",
      "\n",
      "Estado de la solución: Optimal\n",
      "\n",
      "Asignación de Proyectos a Muelles:\n",
      "\n",
      "Día\t SUR\tNORTE\n"
     ]
    },
    {
     "name": "stderr",
     "output_type": "stream",
     "text": [
      "/opt/miniconda3/envs/NAME_ENV/lib/python3.10/site-packages/pulp/pulp.py:1455: UserWarning: Spaces are not permitted in the name. Converted to '_'\n",
      "  warnings.warn(\"Spaces are not permitted in the name. Converted to '_'\")\n"
     ]
    },
    {
     "ename": "KeyError",
     "evalue": "0",
     "output_type": "error",
     "traceback": [
      "\u001b[0;31m---------------------------------------------------------------------------\u001b[0m",
      "\u001b[0;31mKeyError\u001b[0m                                  Traceback (most recent call last)",
      "Cell \u001b[0;32mIn[180], line 1\u001b[0m\n\u001b[0;32m----> 1\u001b[0m \u001b[43moptimize\u001b[49m\u001b[43m(\u001b[49m\u001b[43m)\u001b[49m\n",
      "Cell \u001b[0;32mIn[179], line 12\u001b[0m, in \u001b[0;36moptimize\u001b[0;34m()\u001b[0m\n\u001b[1;32m      9\u001b[0m restricciones \u001b[38;5;241m=\u001b[39m definir_restricciones(x, dias, dias_vars, locs_vars, periodos, muelles, proyectos)\n\u001b[1;32m     11\u001b[0m prob \u001b[38;5;241m=\u001b[39m resolver_problema(objetivo, restricciones)\n\u001b[0;32m---> 12\u001b[0m \u001b[43mimprimir_asignacion\u001b[49m\u001b[43m(\u001b[49m\u001b[43mprob\u001b[49m\u001b[43m,\u001b[49m\u001b[43m \u001b[49m\u001b[43mx\u001b[49m\u001b[43m,\u001b[49m\u001b[43m \u001b[49m\u001b[43mdias\u001b[49m\u001b[43m,\u001b[49m\u001b[43m \u001b[49m\u001b[43mperiodos\u001b[49m\u001b[43m,\u001b[49m\u001b[43m \u001b[49m\u001b[43mmuelles\u001b[49m\u001b[43m)\u001b[49m\n",
      "Cell \u001b[0;32mIn[168], line 13\u001b[0m, in \u001b[0;36mimprimir_asignacion\u001b[0;34m(prob, x_dpm, dias, periodos, muelles)\u001b[0m\n\u001b[1;32m     11\u001b[0m \u001b[38;5;28;01mfor\u001b[39;00m p \u001b[38;5;129;01min\u001b[39;00m periodos\u001b[38;5;241m.\u001b[39mindex:\n\u001b[1;32m     12\u001b[0m     \u001b[38;5;28;01mfor\u001b[39;00m m \u001b[38;5;129;01min\u001b[39;00m muelles\u001b[38;5;241m.\u001b[39mindex:\n\u001b[0;32m---> 13\u001b[0m         \u001b[38;5;28;01mif\u001b[39;00m \u001b[43mx_dpm\u001b[49m\u001b[43m[\u001b[49m\u001b[43md\u001b[49m\u001b[43m]\u001b[49m[p][m]\u001b[38;5;241m.\u001b[39mvarValue \u001b[38;5;241m==\u001b[39m \u001b[38;5;241m1\u001b[39m:\n\u001b[1;32m     14\u001b[0m             row \u001b[38;5;241m+\u001b[39m\u001b[38;5;241m=\u001b[39m \u001b[38;5;124mf\u001b[39m\u001b[38;5;124m\"\u001b[39m\u001b[38;5;132;01m{\u001b[39;00mp\u001b[38;5;132;01m}\u001b[39;00m\u001b[38;5;130;01m\\t\u001b[39;00m\u001b[38;5;124m\"\u001b[39m\n\u001b[1;32m     15\u001b[0m             \u001b[38;5;28;01mbreak\u001b[39;00m\n",
      "\u001b[0;31mKeyError\u001b[0m: 0"
     ]
    }
   ],
   "source": [
    "optimize()"
   ]
  },
  {
   "cell_type": "code",
   "execution_count": 155,
   "id": "b7ba5cfa",
   "metadata": {},
   "outputs": [
    {
     "name": "stderr",
     "output_type": "stream",
     "text": [
      "/opt/miniconda3/envs/NAME_ENV/lib/python3.10/site-packages/pulp/pulp.py:1455: UserWarning: Spaces are not permitted in the name. Converted to '_'\n",
      "  warnings.warn(\"Spaces are not permitted in the name. Converted to '_'\")\n"
     ]
    }
   ],
   "source": [
    "proyectos, periodos, muelles, fecha_inicial = leer_datos()\n",
    "proyectos, periodos, muelles, dias = preprocesar_datos(proyectos, periodos, muelles, fecha_inicial)\n",
    "x = definir_variables(proyectos, periodos, muelles)\n",
    "objetivo = definir_funcion_objetivo(x)\n",
    "prob = LpProblem(\"Asignación de Periodos a Muelles\", LpMaximize)\n",
    "prob += objetivo"
   ]
  },
  {
   "cell_type": "code",
   "execution_count": null,
   "id": "53c82a04",
   "metadata": {},
   "outputs": [],
   "source": []
  }
 ],
 "metadata": {
  "kernelspec": {
   "display_name": "Python 3",
   "language": "python",
   "name": "python3"
  },
  "language_info": {
   "codemirror_mode": {
    "name": "ipython",
    "version": 3
   },
   "file_extension": ".py",
   "mimetype": "text/x-python",
   "name": "python",
   "nbconvert_exporter": "python",
   "pygments_lexer": "ipython3",
   "version": "3.10.13"
  }
 },
 "nbformat": 4,
 "nbformat_minor": 5
}
