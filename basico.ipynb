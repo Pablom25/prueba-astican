{
 "cells": [
  {
   "cell_type": "code",
   "execution_count": 172,
   "id": "7b52d4ed",
   "metadata": {},
   "outputs": [],
   "source": [
    "# Importar bibliotecas\n",
    "\n",
    "from leerDatos import leer_datos\n",
    "from procesarDatos import preprocesar_datos\n",
    "from optimizador import optimize"
   ]
  },
  {
   "cell_type": "code",
   "execution_count": 173,
   "id": "c252e457",
   "metadata": {},
   "outputs": [
    {
     "name": "stdout",
     "output_type": "stream",
     "text": [
      "Welcome to the CBC MILP Solver \n",
      "Version: 2.10.3 \n",
      "Build Date: Dec 15 2019 \n",
      "\n",
      "command line - /opt/miniconda3/envs/NAME_ENV/lib/python3.10/site-packages/pulp/apis/../solverdir/cbc/osx/i64/cbc /var/folders/x4/4ffrr56n3jzb55xn5fzcplwc0000gn/T/72e6724016c7487d91e18a33deb2b723-pulp.mps -max -timeMode elapsed -branch -printingOptions all -solution /var/folders/x4/4ffrr56n3jzb55xn5fzcplwc0000gn/T/72e6724016c7487d91e18a33deb2b723-pulp.sol (default strategy 1)\n",
      "At line 2 NAME          MODEL\n",
      "At line 3 ROWS\n",
      "At line 106 COLUMNS\n",
      "At line 471 RHS\n",
      "At line 573 BOUNDS\n",
      "At line 625 ENDATA\n",
      "Problem MODEL has 101 rows, 51 columns and 213 elements\n",
      "Coin0008I MODEL read with 0 errors\n",
      "Option for timeMode changed from cpu to elapsed\n",
      "Continuous objective value is 9583.33 - 0.00 seconds\n",
      "Cgl0003I 0 fixed, 0 tightened bounds, 12 strengthened rows, 0 substitutions\n",
      "Cgl0004I processed model has 32 rows, 21 columns (21 integer (21 of which binary)) and 111 elements\n",
      "Cutoff increment increased from 1e-05 to 49.9999\n",
      "Cbc0038I Initial state - 0 integers unsatisfied sum - 0\n",
      "Cbc0038I Solution found of -8000\n",
      "Cbc0038I Before mini branch and bound, 21 integers at bound fixed and 0 continuous\n",
      "Cbc0038I Mini branch and bound did not improve solution (0.01 seconds)\n",
      "Cbc0038I After 0.01 seconds - Feasibility pump exiting with objective of -8000 - took 0.00 seconds\n",
      "Cbc0012I Integer solution of -8000 found by feasibility pump after 0 iterations and 0 nodes (0.01 seconds)\n",
      "Cbc0001I Search completed - best objective -8000, took 0 iterations and 0 nodes (0.01 seconds)\n",
      "Cbc0035I Maximum depth 0, 0 variables fixed on reduced cost\n",
      "Cuts at root node changed objective from -8000 to -8000\n",
      "Probing was tried 0 times and created 0 cuts of which 0 were active after adding rounds of cuts (0.000 seconds)\n",
      "Gomory was tried 0 times and created 0 cuts of which 0 were active after adding rounds of cuts (0.000 seconds)\n",
      "Knapsack was tried 0 times and created 0 cuts of which 0 were active after adding rounds of cuts (0.000 seconds)\n",
      "Clique was tried 0 times and created 0 cuts of which 0 were active after adding rounds of cuts (0.000 seconds)\n",
      "MixedIntegerRounding2 was tried 0 times and created 0 cuts of which 0 were active after adding rounds of cuts (0.000 seconds)\n",
      "FlowCover was tried 0 times and created 0 cuts of which 0 were active after adding rounds of cuts (0.000 seconds)\n",
      "TwoMirCuts was tried 0 times and created 0 cuts of which 0 were active after adding rounds of cuts (0.000 seconds)\n",
      "ZeroHalf was tried 0 times and created 0 cuts of which 0 were active after adding rounds of cuts (0.000 seconds)\n",
      "\n",
      "Result - Optimal solution found\n",
      "\n",
      "Objective value:                8000.00000000\n",
      "Enumerated nodes:               0\n",
      "Total iterations:               0\n",
      "Time (CPU seconds):             0.00\n",
      "Time (Wallclock seconds):       0.01\n",
      "\n",
      "Option for printingOptions changed from normal to all\n",
      "Total time (CPU seconds):       0.00   (Wallclock seconds):       0.02\n",
      "\n",
      "Estado de la solucion: Optimal\n",
      "\n",
      "Resultados:\n",
      "\n",
      "   proyecto_id  periodo_id id_proyecto_reparacion               ubicacion  \\\n",
      "0        PRO1           0                 PRO1_0  SIN UBICACION ASIGNADA   \n",
      "1        PRO1           1                 PRO1_1  SIN UBICACION ASIGNADA   \n",
      "2        PRO2           0                 PRO2_0              MUELLE SUR   \n",
      "3        PRO2           1                 PRO2_1            MUELLE NORTE   \n",
      "\n",
      "  fecha_inicio   fecha_fin                                       id_resultado  \n",
      "0   2025-08-08  2025-08-20  PRO1_2025-08-08_2025-08-20_SIN UBICACION ASIGNADA  \n",
      "1   2025-08-21  2025-08-26  PRO1_2025-08-21_2025-08-26_SIN UBICACION ASIGNADA  \n",
      "2   2025-08-10  2025-08-16              PRO2_2025-08-10_2025-08-16_MUELLE SUR  \n",
      "3   2025-08-17  2025-08-19            PRO2_2025-08-17_2025-08-19_MUELLE NORTE  \n"
     ]
    },
    {
     "name": "stderr",
     "output_type": "stream",
     "text": [
      "/opt/miniconda3/envs/NAME_ENV/lib/python3.10/site-packages/pulp/pulp.py:1455: UserWarning: Spaces are not permitted in the name. Converted to '_'\n",
      "  warnings.warn(\"Spaces are not permitted in the name. Converted to '_'\")\n"
     ]
    }
   ],
   "source": [
    "def main():\n",
    "    proyectos, periodos, muelles, fecha_inicial, MOVED_PROJECTS_PENALTY_PER_MOVEMENT, MAX_MOVEMENTS_PER_PROJECT = leer_datos()\n",
    "    proyectos, periodos, muelles, dias = preprocesar_datos(proyectos, periodos, muelles, fecha_inicial)\n",
    "    resultados = optimize(proyectos, periodos, muelles, dias, fecha_inicial, MOVED_PROJECTS_PENALTY_PER_MOVEMENT, MAX_MOVEMENTS_PER_PROJECT)\n",
    "    print(\"\\nResultados:\\n\\n\", resultados)\n",
    "\n",
    "main()"
   ]
  }
 ],
 "metadata": {
  "kernelspec": {
   "display_name": "Python 3",
   "language": "python",
   "name": "python3"
  },
  "language_info": {
   "codemirror_mode": {
    "name": "ipython",
    "version": 3
   },
   "file_extension": ".py",
   "mimetype": "text/x-python",
   "name": "python",
   "nbconvert_exporter": "python",
   "pygments_lexer": "ipython3",
   "version": "3.10.13"
  }
 },
 "nbformat": 4,
 "nbformat_minor": 5
}
