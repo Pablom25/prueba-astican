{
 "cells": [
  {
   "cell_type": "code",
   "execution_count": 111,
   "id": "7b52d4ed",
   "metadata": {},
   "outputs": [],
   "source": [
    "# Importar bibliotecas\n",
    "\n",
    "import pandas as pd\n",
    "from pulp import *"
   ]
  },
  {
   "cell_type": "code",
   "execution_count": 110,
   "id": "2e022a94",
   "metadata": {},
   "outputs": [],
   "source": [
    "# Crear/leer datos\n",
    "\n",
    "def leer_datos():\n",
    "    # Aquí lógica para leer los datos desde un archivo o base de datos\n",
    "    proyectos = pd.DataFrame({       \n",
    "        'eslora': [120, 100],\n",
    "        'manga': [18, 15]}, \n",
    "        index=['PRO1', 'PRO2'])\n",
    "\n",
    "    periodos = pd.DataFrame({\n",
    "        'tipo_desc': ['FLOTE', 'FLOTE'],\n",
    "        'fecha_inicio': ['2025-08-08', '2025-08-10'],\n",
    "        'fecha_fin': ['2025-08-20', '2025-08-16'],\n",
    "        'proyecto_id': ['PRO1', 'PRO2'],\n",
    "        'periodo_id': [0, 0]})\n",
    "\n",
    "    periodos.index = periodos['proyecto_id'] + '_' + periodos['periodo_id'].astype(str)\n",
    "\n",
    "    muelles = pd.DataFrame({\n",
    "        'longitud': [130, 110],\n",
    "        'ancho': [20, 20]},\n",
    "        index=['SUR', 'NORTE'])\n",
    "\n",
    "    fecha_inicial = periodos['fecha_inicio'].min()\n",
    "\n",
    "    return proyectos, periodos, muelles, fecha_inicial\n"
   ]
  },
  {
   "cell_type": "code",
   "execution_count": 120,
   "id": "b4c4563f",
   "metadata": {},
   "outputs": [],
   "source": [
    "# Preprocesar datos\n",
    "\n",
    "def preprocesar_datos(proyectos, periodos, muelles, fecha_inicial):\n",
    "\n",
    "    # Convertir fechas a integer\n",
    "    periodos['fecha_inicio'] = periodos['fecha_inicio'].apply(lambda x: (pd.Timestamp(x)-pd.Timestamp(fecha_inicial)).days)\n",
    "    periodos['fecha_fin'] = periodos['fecha_fin'].apply(lambda x: (pd.Timestamp(x)-pd.Timestamp(fecha_inicial)).days)\n",
    "\n",
    "    dias = list(range(periodos['fecha_inicio'].min(), periodos['fecha_fin'].max()+1))\n",
    "\n",
    "    return proyectos, periodos, muelles, dias"
   ]
  },
  {
   "cell_type": "code",
   "execution_count": 101,
   "id": "3e03a357",
   "metadata": {},
   "outputs": [],
   "source": [
    "# Definir variables de decisión\n",
    "\n",
    "def definir_variables(dias, periodos, muelles):\n",
    "    x_dpm = LpVariable.dicts(\"x\", (dias, periodos.index, muelles.index), cat='Binary')\n",
    "    return x_dpm"
   ]
  },
  {
   "cell_type": "code",
   "execution_count": 102,
   "id": "c63109de",
   "metadata": {},
   "outputs": [],
   "source": [
    "# Definir la función objetivo\n",
    "\n",
    "def definir_funcion_objetivo(x_dpm, dias, periodos, muelles):\n",
    "    objetivo = lpSum(x_dpm[d][p][m] for d in dias for p in periodos.index for m in muelles.index)\n",
    "    return objetivo"
   ]
  },
  {
   "cell_type": "code",
   "execution_count": 103,
   "id": "e8238e2c",
   "metadata": {},
   "outputs": [],
   "source": [
    "# Definir restricciones\n",
    "\n",
    "def definir_restricciones(x_dpm, dias, periodos, muelles, proyectos):\n",
    "\n",
    "    restricciones = {}\n",
    "\n",
    "    # Cada proyecto como mucho en un muelle por día\n",
    "    restricciones['1_por_día'] = []\n",
    "    for d in dias:\n",
    "        for p in periodos.index:\n",
    "            restricciones['1_por_día'].append(lpSum(x_dpm[d][p][m] for m in muelles.index) <= 1)\n",
    "    \n",
    "    # Manga del proyecto no puede exceder las dimensiones del muelle\n",
    "    restricciones['Manga_Muelle'] = []\n",
    "    for d in dias:\n",
    "        for p in periodos.index:\n",
    "            for m in muelles.index:\n",
    "                restricciones['Manga_Muelle'].append(x_dpm[d][p][m] * proyectos.loc[periodos.loc[p,'proyecto_id'], 'manga'] <= muelles.loc[m, 'ancho'])\n",
    "    \n",
    "    # Cada proyecto solo puede estar asignado entre su inicio y fin\n",
    "    restricciones['Periodo_Asignacion'] = []\n",
    "    for d in dias:\n",
    "        for p in periodos.index:\n",
    "            for m in muelles.index:\n",
    "                if d < periodos.loc[p, 'fecha_inicio'] or d > periodos.loc[p, 'fecha_fin']:\n",
    "                    restricciones['Periodo_Asignacion'].append(x_dpm[d][p][m] == 0)\n",
    "\n",
    "    # Los barcos en el mismo muelle no pueden exceder la longitud del muelle\n",
    "    restricciones['Longitud_Muelle'] = []\n",
    "    for d in dias:\n",
    "        for m in muelles.index:\n",
    "            restricciones['Longitud_Muelle'].append(lpSum(x_dpm[d][p][m] * proyectos.loc[periodos.loc[p,'proyecto_id'], 'eslora'] for p in periodos.index) <= muelles.loc[m, 'longitud'])\n",
    "\n",
    "    return restricciones"
   ]
  },
  {
   "cell_type": "code",
   "execution_count": null,
   "id": "6720fd57",
   "metadata": {},
   "outputs": [],
   "source": [
    "# Resolver el problema de optimización\n",
    "\n",
    "def resolver_problema(objetivo, restricciones):\n",
    "\n",
    "    prob = LpProblem(\"Asignación de Periodos a Muelles\", LpMaximize)\n",
    "    prob += objetivo\n",
    "\n",
    "    for constraint in restricciones.values():\n",
    "        for c in constraint:\n",
    "            prob += c\n",
    "\n",
    "    prob.solve()\n",
    "\n",
    "    return prob"
   ]
  },
  {
   "cell_type": "code",
   "execution_count": 105,
   "id": "a07f096c",
   "metadata": {},
   "outputs": [],
   "source": [
    "# Imprimir asignación de proyectos por muelle\n",
    "\n",
    "def imprimir_asignacion(prob, x_dpm, dias, periodos, muelles):\n",
    "    \n",
    "    print(\"Estado de la solución:\", LpStatus[prob.status])\n",
    "    print(\"\\nAsignación de Proyectos a Muelles:\\n\")\n",
    "    print(\"Día\\t\", \"\\t\".join(muelles.index))\n",
    "\n",
    "    for d in dias:\n",
    "        row = f\"{d}\\t\"\n",
    "        for p in periodos.index:\n",
    "            for m in muelles.index:\n",
    "                if x_dpm[d][p][m].varValue == 1:\n",
    "                    row += f\"{p}\\t\"\n",
    "                    break\n",
    "        print(row)\n"
   ]
  },
  {
   "cell_type": "code",
   "execution_count": 108,
   "id": "c252e457",
   "metadata": {},
   "outputs": [],
   "source": [
    "# Optimize\n",
    "\n",
    "def optimize():\n",
    "    proyectos, periodos, muelles, fecha_inicial = leer_datos()\n",
    "    proyectos, periodos, muelles, dias = preprocesar_datos(proyectos, periodos, muelles, fecha_inicial)\n",
    "    \n",
    "    x_dpm = definir_variables(dias, periodos, muelles)\n",
    "    objetivo = definir_funcion_objetivo(x_dpm, dias, periodos, muelles)\n",
    "    restricciones = definir_restricciones(x_dpm, dias, periodos, muelles, proyectos)\n",
    "    \n",
    "    prob = resolver_problema(objetivo, restricciones)\n",
    "    imprimir_asignacion(prob, x_dpm, dias, periodos, muelles)"
   ]
  },
  {
   "cell_type": "code",
   "execution_count": null,
   "id": "66fa0052",
   "metadata": {},
   "outputs": [
    {
     "name": "stdout",
     "output_type": "stream",
     "text": [
      "Welcome to the CBC MILP Solver \n",
      "Version: 2.10.3 \n",
      "Build Date: Dec 15 2019 \n",
      "\n",
      "command line - /opt/miniconda3/envs/NAME_ENV/lib/python3.10/site-packages/pulp/apis/../solverdir/cbc/osx/i64/cbc /var/folders/x4/4ffrr56n3jzb55xn5fzcplwc0000gn/T/4b7a7fb5d23a4172a21f2c4494bb7ca6-pulp.mps -max -timeMode elapsed -branch -printingOptions all -solution /var/folders/x4/4ffrr56n3jzb55xn5fzcplwc0000gn/T/4b7a7fb5d23a4172a21f2c4494bb7ca6-pulp.sol (default strategy 1)\n",
      "At line 2 NAME          MODEL\n",
      "At line 3 ROWS\n",
      "At line 121 COLUMNS\n",
      "At line 446 RHS\n",
      "At line 563 BOUNDS\n",
      "At line 616 ENDATA\n",
      "Problem MODEL has 116 rows, 52 columns and 168 elements\n",
      "Coin0008I MODEL read with 0 errors\n",
      "Option for timeMode changed from cpu to elapsed\n",
      "Continuous objective value is 20 - 0.00 seconds\n",
      "Cgl0002I 12 variables fixed\n",
      "Cgl0004I processed model has 0 rows, 0 columns (0 integer (0 of which binary)) and 0 elements\n",
      "Cbc3007W No integer variables - nothing to do\n",
      "Cuts at root node changed objective from -20 to -1.79769e+308\n",
      "Probing was tried 0 times and created 0 cuts of which 0 were active after adding rounds of cuts (0.000 seconds)\n",
      "Gomory was tried 0 times and created 0 cuts of which 0 were active after adding rounds of cuts (0.000 seconds)\n",
      "Knapsack was tried 0 times and created 0 cuts of which 0 were active after adding rounds of cuts (0.000 seconds)\n",
      "Clique was tried 0 times and created 0 cuts of which 0 were active after adding rounds of cuts (0.000 seconds)\n",
      "MixedIntegerRounding2 was tried 0 times and created 0 cuts of which 0 were active after adding rounds of cuts (0.000 seconds)\n",
      "FlowCover was tried 0 times and created 0 cuts of which 0 were active after adding rounds of cuts (0.000 seconds)\n",
      "TwoMirCuts was tried 0 times and created 0 cuts of which 0 were active after adding rounds of cuts (0.000 seconds)\n",
      "ZeroHalf was tried 0 times and created 0 cuts of which 0 were active after adding rounds of cuts (0.000 seconds)\n",
      "\n",
      "Result - Optimal solution found\n",
      "\n",
      "Objective value:                20.00000000\n",
      "Enumerated nodes:               0\n",
      "Total iterations:               5\n",
      "Time (CPU seconds):             0.00\n",
      "Time (Wallclock seconds):       0.01\n",
      "\n",
      "Option for printingOptions changed from normal to all\n",
      "Total time (CPU seconds):       0.00   (Wallclock seconds):       0.02\n",
      "\n",
      "Estado de la solución: Optimal\n",
      "\n",
      "Asignación de Proyectos a Muelles:\n",
      "\n",
      "Día\t SUR\tNORTE\n",
      "0\tPRO-1-0\t\n",
      "1\tPRO-1-0\t\n",
      "2\tPRO-1-0\tPRO-2-0\t\n",
      "3\tPRO-1-0\tPRO-2-0\t\n",
      "4\tPRO-1-0\tPRO-2-0\t\n",
      "5\tPRO-1-0\tPRO-2-0\t\n",
      "6\tPRO-1-0\tPRO-2-0\t\n",
      "7\tPRO-1-0\tPRO-2-0\t\n",
      "8\tPRO-1-0\tPRO-2-0\t\n",
      "9\tPRO-1-0\t\n",
      "10\tPRO-1-0\t\n",
      "11\tPRO-1-0\t\n",
      "12\tPRO-1-0\t\n"
     ]
    },
    {
     "name": "stderr",
     "output_type": "stream",
     "text": [
      "/opt/miniconda3/envs/NAME_ENV/lib/python3.10/site-packages/pulp/pulp.py:1455: UserWarning: Spaces are not permitted in the name. Converted to '_'\n",
      "  warnings.warn(\"Spaces are not permitted in the name. Converted to '_'\")\n"
     ]
    }
   ],
   "source": [
    "optimize()"
   ]
  },
  {
   "cell_type": "code",
   "execution_count": null,
   "id": "61903c58",
   "metadata": {},
   "outputs": [],
   "source": []
  }
 ],
 "metadata": {
  "kernelspec": {
   "display_name": "Python 3",
   "language": "python",
   "name": "python3"
  },
  "language_info": {
   "codemirror_mode": {
    "name": "ipython",
    "version": 3
   },
   "file_extension": ".py",
   "mimetype": "text/x-python",
   "name": "python",
   "nbconvert_exporter": "python",
   "pygments_lexer": "ipython3",
   "version": "3.10.13"
  }
 },
 "nbformat": 4,
 "nbformat_minor": 5
}
